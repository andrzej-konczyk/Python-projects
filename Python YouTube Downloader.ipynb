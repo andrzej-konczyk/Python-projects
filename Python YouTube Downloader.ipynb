{
 "cells": [
  {
   "cell_type": "markdown",
   "metadata": {},
   "source": [
    "# 1. Improt Libraries"
   ]
  },
  {
   "cell_type": "code",
   "execution_count": 1,
   "metadata": {},
   "outputs": [],
   "source": [
    "from tkinter import *\n",
    "from pytube import YouTube"
   ]
  },
  {
   "cell_type": "markdown",
   "metadata": {},
   "source": [
    "# 2. Create Display Window"
   ]
  },
  {
   "cell_type": "code",
   "execution_count": 2,
   "metadata": {},
   "outputs": [
    {
     "data": {
      "text/plain": [
       "''"
      ]
     },
     "execution_count": 2,
     "metadata": {},
     "output_type": "execute_result"
    }
   ],
   "source": [
    "\n",
    "root = Tk()\n",
    "root.geometry('600x400')\n",
    "root.resizable(0,0)\n",
    "root.title(\"The best YouTube Video Downloader\")\n",
    "\n",
    "\n",
    "#Tk() used to initialize tkinter to create display window\n",
    "#geometry() used to set the window’s width and height\n",
    "#resizable(0,0) set the fix size of window\n",
    "#title() used to give the title of window"
   ]
  },
  {
   "cell_type": "code",
   "execution_count": 3,
   "metadata": {},
   "outputs": [],
   "source": [
    "Label(root,text = 'Yours Youtube Video Downloader', font ='arial 18 bold', bg = 'light yellow').pack()"
   ]
  },
  {
   "cell_type": "markdown",
   "metadata": {},
   "source": [
    "- Label() widget use to display text that users can’t able to modify.\n",
    "- root is the name of the window\n",
    "- text which we display the title of the label\n",
    "- font in which our text is written\n",
    "- pack organized widget in block"
   ]
  },
  {
   "cell_type": "markdown",
   "metadata": {},
   "source": [
    "# 3. Create Field to Enter Link"
   ]
  },
  {
   "cell_type": "code",
   "execution_count": 4,
   "metadata": {},
   "outputs": [],
   "source": [
    "link = StringVar()\n",
    "Label(root, text = 'Please paste YouTube link here:', font = 'arial 14 bold', bg= 'light green').place(x= 160 , y = 60)\n",
    "link_enter = Entry(root, width = 100,textvariable = link).place(x = 32, y = 90)"
   ]
  },
  {
   "cell_type": "markdown",
   "metadata": {},
   "source": [
    "- link is a string type variable that stores the youtube video link that the user enters.\n",
    "- Entry() widget is used when we want to create an input text field.\n",
    "- width sets the width of entry widget\n",
    "- textvariable used to retrieve the value of current text variable to the entry widget\n",
    "- place() use to place the widget at a specific position"
   ]
  },
  {
   "cell_type": "markdown",
   "metadata": {},
   "source": [
    "# 4. Create Function to Start Downloading"
   ]
  },
  {
   "cell_type": "code",
   "execution_count": 5,
   "metadata": {},
   "outputs": [],
   "source": [
    "def Downloader():     \n",
    "    url =YouTube(str(link.get()))\n",
    "    video = url.streams.first()\n",
    "    video.download()\n",
    "    Label(root, text = 'DOWNLOADED', font = 'arial 14', bg = 'light blue').place(x= 230 , y = 210)  \n",
    "Button(root,text = 'DOWNLOAD', font = 'arial 14 bold' ,bg = 'red', padx = 2, command = Downloader).place(x=235 ,y = 150)\n",
    "root.mainloop()"
   ]
  },
  {
   "cell_type": "markdown",
   "metadata": {},
   "source": [
    " Url variable gets the youtube link from the link variable by get() function and then str() will convert the link in string datatype.\n",
    "\n",
    " The video is download in the first present stream of that video by stream.first() method.\n",
    "\n",
    " Button() widget used to display button on the window.\n",
    "\n",
    " - text which we display on the label\n",
    " - font in which the text is written\n",
    " - bg sets the background color\n",
    " - command is used to call the function\n",
    " - root.mainloop() is a method that executes when we want to run the program."
   ]
  }
 ],
 "metadata": {
  "kernelspec": {
   "display_name": "Python 3.9.7 ('base')",
   "language": "python",
   "name": "python3"
  },
  "language_info": {
   "codemirror_mode": {
    "name": "ipython",
    "version": 3
   },
   "file_extension": ".py",
   "mimetype": "text/x-python",
   "name": "python",
   "nbconvert_exporter": "python",
   "pygments_lexer": "ipython3",
   "version": "3.9.7"
  },
  "orig_nbformat": 4,
  "vscode": {
   "interpreter": {
    "hash": "5be42bdc0f3942fe006c6eed7ae26cb7bae447fc8643a580b87df87dd2180d23"
   }
  }
 },
 "nbformat": 4,
 "nbformat_minor": 2
}
