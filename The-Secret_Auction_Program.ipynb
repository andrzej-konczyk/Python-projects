{
 "cells": [
  {
   "cell_type": "code",
   "execution_count": 21,
   "metadata": {},
   "outputs": [
    {
     "name": "stdout",
     "output_type": "stream",
     "text": [
      "\n",
      "                             88                          \n",
      "                                    ,d    \"\"                          \n",
      "                                    88                                \n",
      ",adPPYYba, 88       88  ,adPPYba, MM88MMM 88  ,adPPYba,  8b,dPPYba,   \n",
      "\"\"     `Y8 88       88 a8\"     \"\"   88    88 a8\"     \"8a 88P'   `\"8a  \n",
      ",adPPPPP88 88       88 8b           88    88 8b       d8 88       88  \n",
      "88,    ,88 \"8a,   ,a88 \"8a,   ,aa   88,   88 \"8a,   ,a8\" 88       88  \n",
      "`\"8bbdP\"Y8  `\"YbbdP'Y8  `\"Ybbd8\"'   \"Y888 88  `\"YbbdP\"'  88       88  \n",
      "                                                                      \n"
     ]
    }
   ],
   "source": [
    "\n",
    "print(\"\"\"\n",
    "                             88                          \n",
    "                                    ,d    \"\"                          \n",
    "                                    88                                \n",
    ",adPPYYba, 88       88  ,adPPYba, MM88MMM 88  ,adPPYba,  8b,dPPYba,   \n",
    "\"\"     `Y8 88       88 a8\"     \"\"   88    88 a8\"     \"8a 88P'   `\"8a  \n",
    ",adPPPPP88 88       88 8b           88    88 8b       d8 88       88  \n",
    "88,    ,88 \"8a,   ,a88 \"8a,   ,aa   88,   88 \"8a,   ,a8\" 88       88  \n",
    "`\"8bbdP\"Y8  `\"YbbdP'Y8  `\"Ybbd8\"'   \"Y888 88  `\"YbbdP\"'  88       88  \n",
    "                                                                      \"\"\")\n",
    "\n"
   ]
  },
  {
   "cell_type": "code",
   "execution_count": 23,
   "metadata": {},
   "outputs": [
    {
     "name": "stdout",
     "output_type": "stream",
     "text": [
      "The winner of action is Maciej with bid price = 25$!\n",
      "{'Andrzej': 20, 'Maciej': 25, 'Jacek': 15}\n"
     ]
    }
   ],
   "source": [
    "\n",
    "import operator\n",
    "\n",
    "name = input('What is your name?')\n",
    "bid = int(input('What is your bid price [$]?'))\n",
    "\n",
    "auction = {name:bid}\n",
    "question = input('Are there other users who want to bid?').lower()\n",
    "\n",
    "\n",
    "while question == 'yes':\n",
    "    name = input('What is your name?')\n",
    "    bid = int(input('What is your bid price [$]?'))\n",
    "    auction[name] = bid\n",
    "    question = input('Are there other users who want to bid?').lower()\n",
    "   \n",
    "\n",
    "winner = max(auction.items(), key=operator.itemgetter(1))[0]\n",
    "\n",
    "print(f'The winner of action is {winner} with bid price = {auction[winner]}$!')\n",
    "print(auction)\n"
   ]
  }
 ],
 "metadata": {
  "kernelspec": {
   "display_name": "Python 3.9.7 ('base')",
   "language": "python",
   "name": "python3"
  },
  "language_info": {
   "codemirror_mode": {
    "name": "ipython",
    "version": 3
   },
   "file_extension": ".py",
   "mimetype": "text/x-python",
   "name": "python",
   "nbconvert_exporter": "python",
   "pygments_lexer": "ipython3",
   "version": "3.9.7"
  },
  "orig_nbformat": 4,
  "vscode": {
   "interpreter": {
    "hash": "5be42bdc0f3942fe006c6eed7ae26cb7bae447fc8643a580b87df87dd2180d23"
   }
  }
 },
 "nbformat": 4,
 "nbformat_minor": 2
}
