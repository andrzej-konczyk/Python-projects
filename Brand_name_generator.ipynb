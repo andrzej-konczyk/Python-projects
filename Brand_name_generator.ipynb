{
 "cells": [
  {
   "cell_type": "code",
   "execution_count": 1,
   "metadata": {},
   "outputs": [
    {
     "name": "stdout",
     "output_type": "stream",
     "text": [
      "Hello, welcome on Brand Name Generator \n",
      "Please follow instruction to generate Your band name. Have fun!\n",
      "Your band name is: Opole Mister. Congratulations!\n"
     ]
    }
   ],
   "source": [
    "print('Hello, welcome on Brand Name Generator \\nPlease follow instruction to generate Your band name. Have fun!')\n",
    "city = input('Plest put the city name, where did Yoy grew up in:')\n",
    "pet_name = input('What is the name of Your pet?:')\n",
    "print(f'Your band name is: {city} {pet_name}. Congratulations!')"
   ]
  }
 ],
 "metadata": {
  "kernelspec": {
   "display_name": "Python 3.9.7 ('base')",
   "language": "python",
   "name": "python3"
  },
  "language_info": {
   "codemirror_mode": {
    "name": "ipython",
    "version": 3
   },
   "file_extension": ".py",
   "mimetype": "text/x-python",
   "name": "python",
   "nbconvert_exporter": "python",
   "pygments_lexer": "ipython3",
   "version": "3.9.7"
  },
  "orig_nbformat": 4,
  "vscode": {
   "interpreter": {
    "hash": "5be42bdc0f3942fe006c6eed7ae26cb7bae447fc8643a580b87df87dd2180d23"
   }
  }
 },
 "nbformat": 4,
 "nbformat_minor": 2
}
