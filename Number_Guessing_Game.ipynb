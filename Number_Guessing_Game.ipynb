{
 "cells": [
  {
   "cell_type": "code",
   "execution_count": null,
   "metadata": {},
   "outputs": [],
   "source": [
    "import random"
   ]
  },
  {
   "cell_type": "code",
   "execution_count": null,
   "metadata": {},
   "outputs": [],
   "source": [
    "#define a game Gues The Number Game\n",
    "def guess_the_number():\n",
    "\n",
    "    logo = \"\"\"\n",
    "    _____                       _______ _            _   _                 _                  _____                      \n",
    "    / ____|                     |__   __| |          | \\ | |               | |                / ____|                     \n",
    "    | |  __ _   _  ___  ___ ___     | |  | |__   ___  |  \\| |_   _ _ __ ___ | |__   ___ _ __  | |  __  __ _ _ __ ___   ___ \n",
    "    | | |_ | | | |/ _ \\/ __/ __|    | |  | '_ \\ / _ \\ | . ` | | | | '_ ` _ \\| '_ \\ / _ \\ '__| | | |_ |/ _` | '_ ` _ \\ / _ |\n",
    "    | |__| | |_| |  __/\\__ \\__ \\    | |  | | | |  __/ | |\\  | |_| | | | | | | |_) |  __/ |    | |__| | (_| | | | | | |  __/\n",
    "    \\_____|\\__,_|\\___||___/___/    |_|  |_| |_|\\___| |_| \\_|\\__,_|_| |_| |_|_.__/ \\___|_|     \\_____|\\__,_|_| |_| |_|\\___|\n",
    "                                                                                                                            \n",
    "                                                                                                                            \n",
    "    \"\"\"\n",
    "    print(logo,  flush = True)\n",
    "    print(\"Welcome to the Number Guessing Game!\\nI'm thinking of a number between 1 and 100\" , flush = True)\n",
    "    level = input(\"Choose a difficulty. Type 'easy' or 'hard': \")\n",
    "    print(f'You will play on {level} level',  flush = True)\n",
    "\n",
    "    if level == 'easy':\n",
    "        print('You will have 10 attempts')\n",
    "        no_of_attempts = 9 #decrese by one as here we will have first guess before loop\n",
    "    else:\n",
    "        print('You will have 5 attempts')\n",
    "        no_of_attempts = 4 #decrese by one as here we will have first guess before loop\n",
    "\n",
    "    number_to_guess = random.randint(1,100)\n",
    "\n",
    "    make_a_guess = int(input('Make a guess: '))\n",
    "    print(f'You guess, that number is: {make_a_guess}')\n",
    "\n",
    "\n",
    "    while no_of_attempts > 0 :\n",
    "        if number_to_guess > make_a_guess:\n",
    "            print('Too low', flush = True)\n",
    "            no_of_attempts = no_of_attempts - 1\n",
    "            print(f'You have {no_of_attempts + 1} attempts remaining to guess the number', flush = True)\n",
    "            make_a_guess = int(input('Make a guess: '))\n",
    "            print(f'You guess, that number is: {make_a_guess}', flush = True)\n",
    "            if no_of_attempts  == 0:\n",
    "                print('You loose', flush=True)\n",
    "                print(f'Number to guess was: {number_to_guess}', flush = True)\n",
    "        elif number_to_guess < make_a_guess:\n",
    "            print('Too high')\n",
    "            no_of_attempts = no_of_attempts - 1\n",
    "            print(f'You have {no_of_attempts + 1} attempts remaining to guess the number', flush = True)\n",
    "            make_a_guess = int(input('Make a guess: '))\n",
    "            print(f'You guess, that number is: {make_a_guess}', flush = True)\n",
    "            if no_of_attempts  == 0:\n",
    "                print('You loose', flush=True)\n",
    "                print(f'Number to guess was: {number_to_guess}', flush = True)\n",
    "        else:\n",
    "            print('Correct. You won!')\n",
    "            no_of_attempts = 0\n"
   ]
  },
  {
   "cell_type": "code",
   "execution_count": null,
   "metadata": {},
   "outputs": [],
   "source": [
    "guess_the_number()"
   ]
  }
 ],
 "metadata": {
  "kernelspec": {
   "display_name": "Python 3.9.7 ('base')",
   "language": "python",
   "name": "python3"
  },
  "language_info": {
   "codemirror_mode": {
    "name": "ipython",
    "version": 3
   },
   "file_extension": ".py",
   "mimetype": "text/x-python",
   "name": "python",
   "nbconvert_exporter": "python",
   "pygments_lexer": "ipython3",
   "version": "3.9.7"
  },
  "orig_nbformat": 4,
  "vscode": {
   "interpreter": {
    "hash": "5be42bdc0f3942fe006c6eed7ae26cb7bae447fc8643a580b87df87dd2180d23"
   }
  }
 },
 "nbformat": 4,
 "nbformat_minor": 2
}
