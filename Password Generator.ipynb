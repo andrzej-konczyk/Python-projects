{
 "cells": [
  {
   "cell_type": "code",
   "execution_count": 29,
   "metadata": {},
   "outputs": [
    {
     "name": "stdout",
     "output_type": "stream",
     "text": [
      "Welcome to the PyPassword Generator!\n",
      "Zdcg9eP5T)4xf2oVr7(\n"
     ]
    }
   ],
   "source": [
    "import random\n",
    "\n",
    "letters = ['a', 'b', 'c', 'd', 'e', 'f', 'g', 'h', 'i', 'j', 'k', 'l', 'm' ,'n', 'o', 'p', 'q', 'r', 's', 't', 'u', 'v', 'w', 'x', 'y', 'z',\n",
    "'A', 'B', 'C', 'D', 'E', 'F', 'G', 'H', 'I', 'J', 'K', 'L', 'M', 'N', 'O', 'P', 'Q', 'R', 'S', 'T', 'U', 'V', 'W', 'X', 'Y', 'Z']\n",
    "\n",
    "numbers = ['1', '2', '3', '4', '5', '6', '7','8', '9', '0']\n",
    "\n",
    "special = ['±', '!', '@','#', '$', '%','^', '&', '*', '(', ')', '_', '+','-', '=', '–']\n",
    "\n",
    "print('Welcome to the PyPassword Generator!')\n",
    "\n",
    "nr_letters = int(input('How many letters would you like in your password?\\n'))\n",
    "nr_symbols = int(input('How many symbols woluld you like?'))\n",
    "nr_numbers = int(input('How many numbers would you like?'))\n",
    "\n",
    "password_letters = random.sample(letters, nr_letters)\n",
    "password_symbols = random.sample(special,nr_symbols)\n",
    "password_numbers = random.sample(numbers,nr_numbers)\n",
    "\n",
    "password_char = password_letters + password_symbols + password_numbers\n",
    "\n",
    "\n",
    "random.shuffle(password_char)\n",
    "\n",
    "\n",
    "password=\"\"\n",
    "for char in password_char:\n",
    "    password = password + str(char)\n",
    "\n",
    "\n",
    "print(password)\n",
    "\n"
   ]
  }
 ],
 "metadata": {
  "kernelspec": {
   "display_name": "Python 3.9.7 ('base')",
   "language": "python",
   "name": "python3"
  },
  "language_info": {
   "codemirror_mode": {
    "name": "ipython",
    "version": 3
   },
   "file_extension": ".py",
   "mimetype": "text/x-python",
   "name": "python",
   "nbconvert_exporter": "python",
   "pygments_lexer": "ipython3",
   "version": "3.9.7"
  },
  "orig_nbformat": 4,
  "vscode": {
   "interpreter": {
    "hash": "5be42bdc0f3942fe006c6eed7ae26cb7bae447fc8643a580b87df87dd2180d23"
   }
  }
 },
 "nbformat": 4,
 "nbformat_minor": 2
}
