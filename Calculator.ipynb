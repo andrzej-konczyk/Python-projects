{
 "cells": [
  {
   "cell_type": "code",
   "execution_count": null,
   "metadata": {},
   "outputs": [],
   "source": [
    "logo = \"\"\"\n",
    " _____________________\n",
    "|  _________________  |\n",
    "| | Pythonista   0. | |  .----------------.  .----------------.  .----------------.  .----------------. \n",
    "| |_________________| | | .--------------. || .--------------. || .--------------. || .--------------. |\n",
    "|  ___ ___ ___   ___  | | |     ______   | || |      __      | || |   _____      | || |     ______   | |\n",
    "| | 7 | 8 | 9 | | + | | | |   .' ___  |  | || |     /  \\     | || |  |_   _|     | || |   .' ___  |  | |\n",
    "| |___|___|___| |___| | | |  / .'   \\_|  | || |    / /\\ \\    | || |    | |       | || |  / .'   \\_|  | |\n",
    "| | 4 | 5 | 6 | | - | | | |  | |         | || |   / ____ \\   | || |    | |   _   | || |  | |         | |\n",
    "| |___|___|___| |___| | | |  \\ `.___.'\\  | || | _/ /    \\ \\_ | || |   _| |__/ |  | || |  \\ `.___.'\\  | |\n",
    "| | 1 | 2 | 3 | | x | | | |   `._____.'  | || ||____|  |____|| || |  |________|  | || |   `._____.'  | |\n",
    "| |___|___|___| |___| | | |              | || |              | || |              | || |              | |\n",
    "| | . | 0 | = | | / | | | '--------------' || '--------------' || '--------------' || '--------------' |\n",
    "| |___|___|___| |___| |  '----------------'  '----------------'  '----------------'  '----------------' \n",
    "|_____________________|\n",
    "\"\"\"\n"
   ]
  },
  {
   "cell_type": "code",
   "execution_count": null,
   "metadata": {},
   "outputs": [],
   "source": [
    "def add(n1,n2):\n",
    "    return n1 + n2\n",
    "\n",
    "def substract(n1,n2):\n",
    "    return n1-n2\n",
    "\n",
    "def multiply(n1,n2):\n",
    "    return n1*n2\n",
    "\n",
    "def divide(n1,n2):\n",
    "    return n1/n2\n",
    "\n",
    "\n",
    "operations = {'+': add, '-':substract, '*':multiply, '/':divide}\n",
    "\n",
    "def calculator():\n",
    "    print(logo)\n",
    "    num1 = float(input('What is the first number?: '))\n",
    "\n",
    "    for symbol in operations:\n",
    "        print(symbol)\n",
    "\n",
    "    should_continue = True\n",
    "\n",
    "    while should_continue:\n",
    "        operation =input('What kind of operation would you like to proceed?: ')\n",
    "\n",
    "        num2 = float(input('What is the next number?: '))\n",
    "\n",
    "        calculation_function = operations[operation]\n",
    "        previous_answer = (calculation_function(num1, num2))\n",
    "\n",
    "\n",
    "        print(f'{num1} {operation} {num2} = {previous_answer}')\n",
    "\n",
    "        if input(f'Do you would like to proceed another operation? Current result is {previous_answer}. To finish or start new calculation type n: ') == 'y':\n",
    "            num1 = previous_answer\n",
    "            print(f'Final result is {previous_answer}')\n",
    "        else:\n",
    "            should_continue = False\n",
    "            if input(f'Do you would like to start new calculation?: ') == 'y':\n",
    "                print(f'Final result of previous calculation is {previous_answer}')\n",
    "                calculator()\n",
    "            else:\n",
    "                 print(f'Final result is {previous_answer}')\n",
    "                 print('Calculator closed')\n",
    "  \n",
    "calculator()"
   ]
  }
 ],
 "metadata": {
  "kernelspec": {
   "display_name": "Python 3.9.7 ('base')",
   "language": "python",
   "name": "python3"
  },
  "language_info": {
   "codemirror_mode": {
    "name": "ipython",
    "version": 3
   },
   "file_extension": ".py",
   "mimetype": "text/x-python",
   "name": "python",
   "nbconvert_exporter": "python",
   "pygments_lexer": "ipython3",
   "version": "3.9.7"
  },
  "orig_nbformat": 4,
  "vscode": {
   "interpreter": {
    "hash": "5be42bdc0f3942fe006c6eed7ae26cb7bae447fc8643a580b87df87dd2180d23"
   }
  }
 },
 "nbformat": 4,
 "nbformat_minor": 2
}
