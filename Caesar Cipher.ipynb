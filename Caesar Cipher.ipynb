{
 "cells": [
  {
   "cell_type": "code",
   "execution_count": null,
   "metadata": {},
   "outputs": [],
   "source": [
    "alphabet = ['a', 'b', 'c', 'd', 'e', 'f', 'g', 'h', 'i', 'j', 'k', 'l', 'm', 'n', 'o', 'p', 'q', 'r', 's', 't', 'u', 'v', 'w', 'x', 'y', 'z', 'a', 'b', 'c',\n",
    " 'd', 'e', 'f', 'g', 'h', 'i', 'j', 'k', 'l', 'm', 'n', 'o', 'p', 'q', 'r', 's', 't', 'u', 'v', 'w', 'x', 'y', 'z']\n",
    "\n",
    "\n",
    "logo = \"\"\"           \n",
    " ,adPPYba, ,adPPYYba,  ,adPPYba, ,adPPYba, ,adPPYYba, 8b,dPPYba,  \n",
    "a8\"     \"\" \"\"     `Y8 a8P_____88 I8[    \"\" \"\"     `Y8 88P'   \"Y8  \n",
    "8b         ,adPPPPP88 8PP\"\"\"\"\"\"\"  `\"Y8ba,  ,adPPPPP88 88          \n",
    "\"8a,   ,aa 88,    ,88 \"8b,   ,aa aa    ]8I 88,    ,88 88          \n",
    " `\"Ybbd8\"' `\"8bbdP\"Y8  `\"Ybbd8\"' `\"YbbdP\"' `\"8bbdP\"Y8 88   \n",
    "            88             88                                 \n",
    "           \"\"             88                                 \n",
    "                          88                                 \n",
    " ,adPPYba, 88 8b,dPPYba,  88,dPPYba,   ,adPPYba, 8b,dPPYba,  \n",
    "a8\"     \"\" 88 88P'    \"8a 88P'    \"8a a8P_____88 88P'   \"Y8  \n",
    "8b         88 88       d8 88       88 8PP\"\"\"\"\"\"\" 88          \n",
    "\"8a,   ,aa 88 88b,   ,a8\" 88       88 \"8b,   ,aa 88          \n",
    " `\"Ybbd8\"' 88 88`YbbdP\"'  88       88  `\"Ybbd8\"' 88          \n",
    "              88                                             \n",
    "              88           \n",
    "\"\"\"\n",
    "\n",
    "print(logo)\n",
    "\n",
    "direction = input(\"Type 'encode' to encrypt, type 'decode' to decrypt:\\n\").lower()\n",
    "text = input(\"Type your message:\\n\").lower()\n",
    "shift = int(input(\"Type the shift number:\\n\"))\n",
    "\n",
    "def cesar(start_text, shift_amount, cipher_direction):\n",
    "    new_text =\"\"\n",
    "    for letter in text:\n",
    "        if letter.isalpha() == True:\n",
    "            if direction == 'encode':\n",
    "                new_position = alphabet.index(letter) + shift\n",
    "                if new_position > len(alphabet):\n",
    "                    new_letter = alphabet[shift - (alphabet.index(alphabet[-1]) - alphabet.index(letter)) - 1]\n",
    "            else:\n",
    "                new_position = alphabet.index(letter) - shift\n",
    "                if new_position < 0:\n",
    "                    new_letter = alphabet[-(shift - alphabet.index(letter))]\n",
    "            new_letter = alphabet[new_position]\n",
    "        else:\n",
    "            new_letter = letter\n",
    "        new_text = new_text + new_letter\n",
    "    print(f\"Here's the {direction}d result: {new_text}\")\n",
    "    should_end = False\n",
    "    while not should_end:\n",
    "        restart = input(\"Type 'yes' if you want to go again. Otherwise type 'no'.\\n\")\n",
    "        if restart == \"no\":\n",
    "            should_end = True\n",
    "            print(\"Goodbye\")  \n",
    "\n",
    "print('------------------------------------------------------------------')\n",
    "print('IMPORTANT: MAX SHIFT IS 26 AS ALPHABETH HAS 26 LETTER - THAT DOES NOT MAKE SENSE TO HAVE LOOP OF LOOP')\n",
    "print('------------------------------------------------------------------')\n",
    "\n",
    "\n",
    "cesar(start_text = text, shift_amount = shift, cipher_direction=direction)\n",
    "\n",
    "       "
   ]
  }
 ],
 "metadata": {
  "kernelspec": {
   "display_name": "Python 3.9.7 ('base')",
   "language": "python",
   "name": "python3"
  },
  "language_info": {
   "codemirror_mode": {
    "name": "ipython",
    "version": 3
   },
   "file_extension": ".py",
   "mimetype": "text/x-python",
   "name": "python",
   "nbconvert_exporter": "python",
   "pygments_lexer": "ipython3",
   "version": "3.9.7"
  },
  "orig_nbformat": 4,
  "vscode": {
   "interpreter": {
    "hash": "5be42bdc0f3942fe006c6eed7ae26cb7bae447fc8643a580b87df87dd2180d23"
   }
  }
 },
 "nbformat": 4,
 "nbformat_minor": 2
}
