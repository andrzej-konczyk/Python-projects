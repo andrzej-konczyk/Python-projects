{
 "cells": [
  {
   "cell_type": "code",
   "execution_count": 11,
   "metadata": {},
   "outputs": [],
   "source": [
    "def my_game():\n",
    "\n",
    "    print('Welcome to Treasure Island.')\n",
    "\n",
    "    print('''\n",
    "    ****************************************************************\n",
    "    _                                     _     _                 _ \n",
    "    | |                                   (_)   | |               | |\n",
    "    | |_ _ __ ___  __ _ ___ _   _ _ __ ___ _ ___| | __ _ _ __   __| |\n",
    "    | __| '__/ _ \\/ _` / __| | | | '__/ _ \\ / __| |/ _` | '_ \\ / _` |\n",
    "    | |_| | |  __/ (_| \\__ \\ |_| | | |  __/ \\__ \\ | (_| | | | | (_| |\n",
    "    \\__|_|  \\___|\\__,_|___/\\__,_|_|  \\___|_|___/_|\\__,_|_| |_|\\__,_|\n",
    "\n",
    "    *****************************************************************\n",
    "    ''')\n",
    "\n",
    "    print('Your mission is to find the treasure!')\n",
    "\n",
    "    r_l =input('Would You like go left of right? :') # we choose if we would like to go left/right\n",
    "\n",
    "    if r_l.lower() == 'right':\n",
    "        print('Fall into a hole. Game Over.')\n",
    "    elif r_l.lower() == 'left':\n",
    "        s_w = input('Would You like to swim or wait? :') # we choose if we would like to wait/swim\n",
    "        if s_w.lower() == 'swim':\n",
    "            print('Attacked by trout. Game Over.')\n",
    "        elif s_w.lower()== 'wait':\n",
    "            door = input('Please slect door - red, blue or yellow: ') # we choose the door\n",
    "            if door.lower() == 'red':\n",
    "                print('Burnded by fire. Game Over.')\n",
    "            elif door.lower() == 'blue':\n",
    "                print('Eaten by beasts. Game Over.')\n",
    "            elif door.lower() == 'yellow':\n",
    "                print('You win!')\n",
    "            else:\n",
    "                print('Game Over.')\n",
    "        else:\n",
    "            print('Attacked by trout. Game Over.')\n",
    "    else:\n",
    "        print('Fall into a hole. Game Over.')\n"
   ]
  },
  {
   "cell_type": "code",
   "execution_count": 15,
   "metadata": {},
   "outputs": [
    {
     "name": "stdout",
     "output_type": "stream",
     "text": [
      "Welcome to Treasure Island.\n",
      "\n",
      "    ****************************************************************\n",
      "    _                                     _     _                 _ \n",
      "    | |                                   (_)   | |               | |\n",
      "    | |_ _ __ ___  __ _ ___ _   _ _ __ ___ _ ___| | __ _ _ __   __| |\n",
      "    | __| '__/ _ \\/ _` / __| | | | '__/ _ \\ / __| |/ _` | '_ \\ / _` |\n",
      "    | |_| | |  __/ (_| \\__ \\ |_| | | |  __/ \\__ \\ | (_| | | | | (_| |\n",
      "    \\__|_|  \\___|\\__,_|___/\\__,_|_|  \\___|_|___/_|\\__,_|_| |_|\\__,_|\n",
      "\n",
      "    *****************************************************************\n",
      "    \n",
      "Your mission is to find the treasure!\n",
      "Fall into a hole. Game Over.\n"
     ]
    }
   ],
   "source": [
    "my_game()"
   ]
  }
 ],
 "metadata": {
  "kernelspec": {
   "display_name": "Python 3.9.7 ('base')",
   "language": "python",
   "name": "python3"
  },
  "language_info": {
   "codemirror_mode": {
    "name": "ipython",
    "version": 3
   },
   "file_extension": ".py",
   "mimetype": "text/x-python",
   "name": "python",
   "nbconvert_exporter": "python",
   "pygments_lexer": "ipython3",
   "version": "3.9.7"
  },
  "orig_nbformat": 4,
  "vscode": {
   "interpreter": {
    "hash": "5be42bdc0f3942fe006c6eed7ae26cb7bae447fc8643a580b87df87dd2180d23"
   }
  }
 },
 "nbformat": 4,
 "nbformat_minor": 2
}
