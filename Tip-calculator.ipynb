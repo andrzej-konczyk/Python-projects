{
 "cells": [
  {
   "cell_type": "code",
   "execution_count": 4,
   "metadata": {},
   "outputs": [
    {
     "name": "stdout",
     "output_type": "stream",
     "text": [
      "Your bill is 210 $\n",
      "There is needed to split bill for 3 people\n",
      "Each person should pay 77.0 $\n"
     ]
    }
   ],
   "source": [
    "#In this project we will calculate how much people need to pay to cover bill with percentage of tip selected during payment\n",
    "\n",
    "bill = int(input('Please provide value of bill in dollars:'))\n",
    "print(f'Your bill is {bill} $')\n",
    "no_of_people = int(input('Please provide number of people:'))\n",
    "print(f'There is needed to split bill for {no_of_people} people')\n",
    "tip_percent = int(input('Please provide value of tip percentage - that can be only 10, 12 or 15 %: '))\n",
    "\n",
    "while tip_percent not in [10,12,15]:\n",
    "    if tip_percent in [10,12,15]:\n",
    "        print(f'You choose {tip_percent} %')\n",
    "    else :\n",
    "        print('Not possible value of percentage selected. Provide proper one')\n",
    "        tip_percent = int(input('Please provide value of tip percentage - that can be only 10, 12 or 15 %: '))\n",
    "        \n",
    "\n",
    "value_to_pay_per_person = round((bill / no_of_people) * (1+tip_percent/100),2)\n",
    "\n",
    "print(f'Each person should pay {value_to_pay_per_person} $')"
   ]
  }
 ],
 "metadata": {
  "kernelspec": {
   "display_name": "Python 3.9.7 ('base')",
   "language": "python",
   "name": "python3"
  },
  "language_info": {
   "codemirror_mode": {
    "name": "ipython",
    "version": 3
   },
   "file_extension": ".py",
   "mimetype": "text/x-python",
   "name": "python",
   "nbconvert_exporter": "python",
   "pygments_lexer": "ipython3",
   "version": "3.9.7"
  },
  "orig_nbformat": 4,
  "vscode": {
   "interpreter": {
    "hash": "5be42bdc0f3942fe006c6eed7ae26cb7bae447fc8643a580b87df87dd2180d23"
   }
  }
 },
 "nbformat": 4,
 "nbformat_minor": 2
}
